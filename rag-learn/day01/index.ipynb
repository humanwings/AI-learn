{
 "cells": [
  {
   "cell_type": "code",
   "execution_count": 1,
   "id": "9c91ff72-09dd-43fa-a9c0-09ad6dd5d74e",
   "metadata": {},
   "outputs": [],
   "source": [
    "import os"
   ]
  },
  {
   "cell_type": "code",
   "execution_count": 5,
   "id": "fbcef634",
   "metadata": {},
   "outputs": [],
   "source": [
    "from pdfminer.high_level import extract_pages\n",
    "from pdfminer.layout import LTTextContainer"
   ]
  },
  {
   "cell_type": "code",
   "execution_count": 1,
   "id": "26330c26",
   "metadata": {},
   "outputs": [],
   "source": [
    "def extract_text_from_pdf_AI(pdf_path, page_numbers=None, min_line_length=1):\n",
    "    \"\"\"\n",
    "    Extracts text from a PDF file.\n",
    "    :param pdf_path: Path to the PDF file.\n",
    "    :param page_numbers: List of page numbers to extract text from. If None, extracts text from all pages.\n",
    "    :param min_line_length: Minimum number of characters in a line to consider it as text.\n",
    "    :return: List of text lines.\n",
    "    \"\"\"\n",
    "    text_lines = []\n",
    "    for page_layout in extract_pages(pdf_path, page_numbers):\n",
    "        for element in page_layout:\n",
    "            if isinstance(element, LTTextContainer):\n",
    "                for text_line in element:\n",
    "                    if len(text_line.get_text().strip()) >= min_line_length:\n",
    "                        text_lines.append(text_line.get_text().strip())\n",
    "    return text_lines"
   ]
  },
  {
   "cell_type": "code",
   "execution_count": 8,
   "id": "5e5bbf32",
   "metadata": {},
   "outputs": [],
   "source": [
    "def extract_text_from_pdf(filename,page_numbers=None,min_line_length=1):\n",
    "    paragraghs = []\n",
    "    buffer = ''\n",
    "    full_text = ''\n",
    "    #提取全部文本\n",
    "    for i , page_layout in enumerate(extract_pages(filename)):\n",
    "        if page_numbers is not None and i not in page_numbers:\n",
    "            continue\n",
    "        for element in page_layout:\n",
    "            if isinstance(element,LTTextContainer):\n",
    "                full_text += element.get_text() + '\\n'\n",
    "    #按空行分隔，将文本重新组织成段落\n",
    "    lines = full_text.split('\\n')\n",
    "    for text in lines:\n",
    "        if len(text) >= min_line_length:\n",
    "            buffer += (' ' + text) if not text.endswith('-') else text.strip('-')\n",
    "        else:\n",
    "            paragraghs.append(buffer)\n",
    "            buffer =' '\n",
    "\n",
    "    if buffer:\n",
    "        paragraghs.append(buffer)\n",
    "    return paragraghs"
   ]
  },
  {
   "cell_type": "code",
   "execution_count": 9,
   "id": "115ff9c9",
   "metadata": {},
   "outputs": [
    {
     "name": "stdout",
     "output_type": "stream",
     "text": [
      "Ethereum Homestead Documentation, Release 0.1\n",
      "\n",
      "blockchain. Miners are rewarded with ether for each successful block they mine. This provides the economic\n",
      "incentive for people to dedicate hardware and electricity to the Ethereum network.\n",
      "\n",
      "Just as in the Bitcoin network, miners are tasked with solving a complex mathematical problem in order to suc-\n",
      "cessfully “mine” a block. This is known as a “Proof of Work”. Any computational problem that requires orders\n",
      "of magnitude more resources to solve algorithmically than it takes to verify the solution is a good candidate for\n",
      "proof of work. In order to discourage centralisation due to the use of specialised hardware (e.g. ASICs), as has\n",
      "occurred in the Bitcoin network, Ethereum chose a memory-hard computational problem. If the problem requires\n",
      "memory as well as CPU, the ideal hardware is in fact the general computer. This makes Ethereum’s Proof of\n",
      "Work ASIC-resistant, allowing a more decentralized distribution of security than blockchains whose mining is\n",
      "dominated by specialized hardware, like Bitcoin.\n",
      "\n",
      "Learn about Ethereum\n",
      "\n",
      "[to be extended]\n",
      "\n",
      "PR videos with some pathos:\n",
      "\n",
      "• Ethereum: the World Computer\n",
      "\n",
      "• Ethereum – your turn\n",
      "\n",
      "Blockchain and Ethereum 101\n",
      "\n",
      "• Explain bitcoin like I’m ﬁve - an excellent introduction to blockchain technology and bitcoin to the mildly\n",
      "\n",
      "techsavvy layperson.\n",
      "\n",
      "• https://medium.com/@creole/7-a-simple-view-of-ethereum-e276f76c980b\n",
      "\n",
      "• http://blog.chain.com/post/92660909216/explaining-ethereum\n",
      "\n",
      "• Explain Ethereum to non-technical people Q&A on stackexchange\n",
      "\n",
      "• Reddit threads on ELI5-ing Ethereum:\n",
      "\n",
      "[1] [2] [3] [4] [5] [6] [7] [8] [9] [10] [11] [12] [13] [14] [15] [16] [17] [18] [19]\n",
      "\n",
      "Videos\n",
      "\n",
      "• http://change.is/video/ethereum-the-world-computer-featuring-dr-gavin-wood\n",
      "\n",
      "Infographics\n",
      "\n",
      "• Ethereum explained...[to your mother]\n",
      "\n",
      "• http://decentral.ca/wp-content/uploads/2016/03/infographic.jpg\n",
      "\n",
      "• https://medium.com/@angelomilan/ethereum-explained-to-my-mom-infographic-\n",
      "\n",
      "673e32054c1c#.n9kzhme6v\n",
      "\n",
      "Comparison to alternatives\n",
      "\n",
      "• NXT\n",
      "\n",
      "• MaidSafe\n",
      "\n",
      "1.1.\n",
      "\n",
      "Introduction\n",
      "\n",
      "5\n",
      "\n",
      "\n",
      "----------------------------------------------------------------------\n",
      " Ethereum Homestead Documentation, Release 0.1\n",
      "\n",
      "  blockchain. Miners are rewarded with ether for each successful block they mine. This provides the economic incentive for people to dedicate hardware and electricity to the Ethereum network.\n",
      "\n",
      " Just as in the Bitcoin network, miners are tasked with solving a complex mathematical problem in order to suc cessfully “mine” a block. This is known as a “Proof of Work”. Any computational problem that requires orders of magnitude more resources to solve algorithmically than it takes to verify the solution is a good candidate for proof of work. In order to discourage centralisation due to the use of specialised hardware (e.g. ASICs), as has occurred in the Bitcoin network, Ethereum chose a memory-hard computational problem. If the problem requires memory as well as CPU, the ideal hardware is in fact the general computer. This makes Ethereum’s Proof of Work ASIC-resistant, allowing a more decentralized distribution of security than blockchains whose mining is dominated by specialized hardware, like Bitcoin.\n",
      "\n",
      "  Learn about Ethereum\n",
      "\n"
     ]
    }
   ],
   "source": [
    "paragraphs = extract_text_from_pdf('D:\\doc\\ethereum-homestead.pdf', page_numbers=[10], min_line_length=10)\n",
    "\n",
    "for para in paragraphs[:4]:\n",
    "    print(para + \"\\n\")"
   ]
  }
 ],
 "metadata": {
  "kernelspec": {
   "display_name": "Python 3",
   "language": "python",
   "name": "python3"
  },
  "language_info": {
   "codemirror_mode": {
    "name": "ipython",
    "version": 3
   },
   "file_extension": ".py",
   "mimetype": "text/x-python",
   "name": "python",
   "nbconvert_exporter": "python",
   "pygments_lexer": "ipython3",
   "version": "3.10.16"
  }
 },
 "nbformat": 4,
 "nbformat_minor": 5
}
